{
 "cells": [
  {
   "cell_type": "markdown",
   "metadata": {},
   "source": [
    "# Generates 10 random numbers between -1 to 500 and sorts it"
   ]
  },
  {
   "cell_type": "code",
   "execution_count": 25,
   "metadata": {},
   "outputs": [
    {
     "name": "stdout",
     "output_type": "stream",
     "text": [
      "\n",
      "Random numbers generated are:\n",
      "[337, 500, 464, 339, 119, 320, 473, 243, 98, 374]\n",
      "\n",
      "Sorted:\n",
      "[98, 119, 243, 320, 337, 339, 374, 464, 473, 500]\n"
     ]
    }
   ],
   "source": [
    "import random\n",
    "randomlist = []\n",
    "for i in range(0,10):\n",
    "    n = random.randint(-1,501)\n",
    "    randomlist.append(n)\n",
    "print(\"\\nRandom numbers generated are:\")\n",
    "print(randomlist)\n",
    "print(\"\\nSorted:\")\n",
    "randomlist.sort()\n",
    "print(randomlist)"
   ]
  },
  {
   "cell_type": "markdown",
   "metadata": {},
   "source": [
    "# Taking Input from user"
   ]
  },
  {
   "cell_type": "code",
   "execution_count": 23,
   "metadata": {},
   "outputs": [
    {
     "name": "stdout",
     "output_type": "stream",
     "text": [
      "enter the count of number to generate:3\n",
      "enter the lower limit:23\n",
      "enter the upper limit:11\n",
      "\n",
      "Random numbers generated are:\n",
      "[12, 21, 16]\n",
      "\n",
      "Sorted:\n",
      "[12, 16, 21]\n"
     ]
    }
   ],
   "source": [
    "import random\n",
    "count=int(input(\"enter the count of number to generate:\"))\n",
    "randomlist = []\n",
    "low=int(input(\"enter the lower limit:\"))\n",
    "high=int(input(\"enter the upper limit:\"))\n",
    "for i in range(0,count):\n",
    "    if(low<=high):\n",
    "        n = random.randint(low,high)\n",
    "        randomlist.append(n)\n",
    "    else:\n",
    "        n = random.randint(high,low)\n",
    "        randomlist.append(n)\n",
    "print(\"\\nRandom numbers generated are:\")\n",
    "print(randomlist)\n",
    "print(\"\\nSorted:\")\n",
    "randomlist.sort()\n",
    "print(randomlist)"
   ]
  }
 ],
 "metadata": {
  "kernelspec": {
   "display_name": "Python 3",
   "language": "python",
   "name": "python3"
  },
  "language_info": {
   "codemirror_mode": {
    "name": "ipython",
    "version": 3
   },
   "file_extension": ".py",
   "mimetype": "text/x-python",
   "name": "python",
   "nbconvert_exporter": "python",
   "pygments_lexer": "ipython3",
   "version": "3.7.6"
  }
 },
 "nbformat": 4,
 "nbformat_minor": 4
}
